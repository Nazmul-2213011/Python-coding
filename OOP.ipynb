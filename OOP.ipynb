{
 "cells": [
  {
   "cell_type": "code",
   "execution_count": 289,
   "id": "9eec0de7-d458-4052-ae3b-cbe8ee90e0fa",
   "metadata": {},
   "outputs": [
    {
     "name": "stdout",
     "output_type": "stream",
     "text": [
      "Book Name: Humayun Ahmed \n",
      "Author: Opekkha \n",
      "Price: 0 Taka\n",
      "Book Name: Humayun Ahmed \n",
      "Author: Opekkha \n",
      "Price: 255 Taka\n",
      "Book price: 255\n"
     ]
    }
   ],
   "source": [
    "class Book:\n",
    "     def __init__(self,author,name):\n",
    "        self.name = name\n",
    "        self.author = author\n",
    "        self.price = 0\n",
    "         \n",
    "     def set_price(self,price): #comaparable to setter\n",
    "        self.price = price\n",
    "\n",
    "     def get_price(self): #comaparable to getter\n",
    "         return self.price\n",
    "\n",
    "     def details(self):\n",
    "            print(\"Book Name:\", self.name,\n",
    "           \"\\nAuthor:\", self.author,\n",
    "           \"\\nPrice:\", self.price, \"Taka\")\n",
    "         #Design/Bluprint\n",
    " #------------------------------------------------\n",
    "\n",
    "b1 = Book('Opekkha', 'Humayun Ahmed')  # b1=object/instance, variable_name=Class()\n",
    "b1.details()\n",
    "\n",
    "b1.set_price(255)\n",
    "b1.details()       \n",
    "\n",
    "print(\"Book price:\", b1.get_price())"
   ]
  },
  {
   "cell_type": "code",
   "execution_count": 290,
   "id": "5c27864e-428e-4302-938c-587b0a14e62f",
   "metadata": {},
   "outputs": [
    {
     "name": "stdout",
     "output_type": "stream",
     "text": [
      "White Cat is Sleeping\n",
      "Brown Cat is Jumping\n",
      "They are different\n"
     ]
    }
   ],
   "source": [
    "class Cat:\n",
    "     def __init__(self, color, action):\n",
    "         self.color = color\n",
    "         self.action = action\n",
    "         \n",
    "     def view1(self):\n",
    "         print(self.color, \"Cat is\", self.action)\n",
    "         \n",
    "     def compare(self, ct):\n",
    "         if self.action == ct.action:\n",
    "             print(\"Both cats are\", ct.action) #or self.action\n",
    "         else:\n",
    "             print(\"They are different\")\n",
    " #------------------------------------------------\n",
    "\n",
    "c1 = Cat('White', 'Sleeping')\n",
    "c1.view1()\n",
    "\n",
    "c2 = Cat('Brown', 'Jumping')\n",
    "c2.view1()\n",
    "\n",
    "c1.compare(c2)  # Self receives c1, ct receives c2 (pass by reference)\n"
   ]
  },
  {
   "cell_type": "code",
   "execution_count": 291,
   "id": "0c880abc-fb93-4b7c-a479-74a58a9c3a82",
   "metadata": {},
   "outputs": [
    {
     "name": "stdout",
     "output_type": "stream",
     "text": [
      "Method inside: 60\n",
      "Method inside: ['Green', 'Red', 'Yellow', 'Blue']\n",
      "Method outside 55\n",
      "Method outside: ['Green', 'Red', 'Yellow', 'Blue']\n"
     ]
    }
   ],
   "source": [
    "class Cat:\n",
    "    def __init__(self,color,action):\n",
    "        self.color = color\n",
    "        self.action = action\n",
    "\n",
    "    def view(self, num, clr):\n",
    "        num = num + 5\n",
    "        # clr1 = clr\n",
    "        clr[0] = \"Green\"\n",
    "        print(\"Method inside:\", num)\n",
    "        print(\"Method inside:\", clr)\n",
    "\n",
    "\n",
    "#---------------------------------------------\n",
    "colors = ['Black', 'Red', 'Yellow', 'Blue']\n",
    "c1 = Cat('Brown', 'Jumping')\n",
    "x = 55\n",
    "c1.view(x, colors)\n",
    "\n",
    "print(\"Method outside\", x)  # Immutable objects (e.g., int, float, str, tuple, bool) are passed by value.\n",
    "print(\"Method outside:\", colors)   # Mutable objects (e.g., list, dict, set, bytearray, custom objects) are passed by reference. \n"
   ]
  },
  {
   "cell_type": "code",
   "execution_count": 292,
   "id": "3a1fe6d5-4120-4df9-9752-d743aef29cfe",
   "metadata": {},
   "outputs": [
    {
     "name": "stdout",
     "output_type": "stream",
     "text": [
      "720\n"
     ]
    }
   ],
   "source": [
    "class my_calculator:\n",
    "     def product(self, *nums):\n",
    "         pro = 1\n",
    "         for x in nums:\n",
    "             pro = pro*x\n",
    "         print(pro)\n",
    "c1 = my_calculator()\n",
    "c1.product(2,3,4,5,6)"
   ]
  },
  {
   "cell_type": "code",
   "execution_count": 293,
   "id": "b6ed53aa-ba52-4a42-940d-913467c5f203",
   "metadata": {},
   "outputs": [
    {
     "name": "stdout",
     "output_type": "stream",
     "text": [
      "9\n",
      "120\n",
      "5112\n"
     ]
    }
   ],
   "source": [
    "# Method overloading => multiple method with same name but different parameter\n",
    "from multipledispatch import dispatch\n",
    "class my_calculator:\n",
    "     @dispatch(int,int)\n",
    "     def product(self,a,b):\n",
    "         print(a*b)\n",
    "         \n",
    "     @dispatch(int,int,int)\n",
    "     def product(self,a,b,c):\n",
    "         print(a*b*c)\n",
    "         \n",
    "     @dispatch(int)\n",
    "     def product(self,a):\n",
    "         print(a)\n",
    "         \n",
    "     @dispatch(str,str)\n",
    "     def product(self,a,b):\n",
    "         print(int(a) * int(b))\n",
    "         \n",
    "     @dispatch(str,int)\n",
    "     def product(self,a,b):\n",
    "         print(int(a) * b)\n",
    "\n",
    "#--------------------------------------------------------------------------------\n",
    "\n",
    "c1 = my_calculator()\n",
    "c1.product(9)\n",
    "c1.product(4,5,6)\n",
    "c1.product('71','72')"
   ]
  },
  {
   "cell_type": "code",
   "execution_count": 294,
   "id": "98f13c8d-4ac5-46e1-965d-adf8d8ed8e3f",
   "metadata": {},
   "outputs": [
    {
     "name": "stdout",
     "output_type": "stream",
     "text": [
      "My name is: Nazmul ,Id is: 11 And CGPA is 3.58\n"
     ]
    }
   ],
   "source": [
    "class Student:\n",
    "     def __init__(self,name,id):\n",
    "         self.name = name\n",
    "         self.id = id\n",
    "         \n",
    "     def __init__(self,name,id,cg):\n",
    "         self.name = name\n",
    "         self.id = id\n",
    "         self.CGPA = cg\n",
    "         #Last_method is working with same name\n",
    "         print('My name is:',self.name, ',Id is:' , self.id, 'And CGPA is',self.CGPA)\n",
    " #------------------------------------------\n",
    "\n",
    "#s1 = Student('Carol', 33)\n",
    "s2 = Student('Nazmul', 11, 3.58)\n"
   ]
  },
  {
   "cell_type": "code",
   "execution_count": 295,
   "id": "38899db5-8e37-4629-aa1e-481933c4e299",
   "metadata": {},
   "outputs": [
    {
     "name": "stdout",
     "output_type": "stream",
     "text": [
      "A student object is created\n",
      "Name is: Nazmul ,Id is : 11 ,CGPA is: 3.58\n",
      "A student object is created\n",
      "A student object is created\n",
      "A student object is created\n"
     ]
    }
   ],
   "source": [
    "# Constructor_overloading\n",
    "\n",
    "class Student:\n",
    "     def __init__(self, *info): # All the passed arguments are collected into a tuple called info.\n",
    "         if(len(info)==3):\n",
    "             self.name = info[0]\n",
    "             self.id = info[1]\n",
    "             self.CGPA = info[2]\n",
    "             print('Name is:',self.name,',Id is :',self.id,',CGPA is:',self.CGPA)\n",
    "         elif(len(info)==2):\n",
    "             self.name = info[0]\n",
    "             self.id = info[1]\n",
    "         print(\"A student object is created\")\n",
    "         \n",
    "# ------------------------------------------\n",
    "\n",
    "s1 = Student('Carol', 33)\n",
    "s2 = Student('Nazmul', 11, 3.58)\n",
    "s3 = Student('Make')\n",
    "s4 = Student() # Unknown_number_arguemnet"
   ]
  },
  {
   "cell_type": "code",
   "execution_count": 296,
   "id": "de5bd9e8-c66c-42a5-9c1f-143eacc7ca15",
   "metadata": {},
   "outputs": [
    {
     "name": "stdout",
     "output_type": "stream",
     "text": [
      "A student object is created\n",
      "A student object is created\n",
      "A student object is created\n",
      "A student object is created\n"
     ]
    }
   ],
   "source": [
    "class Student:\n",
    "     def __init__(self, **info):\n",
    "         if(len(info)==3):\n",
    "             self.name = info['name']\n",
    "             self.id = info['id']\n",
    "             self.CGPA = info['cg']\n",
    "         elif(len(info)==2):\n",
    "             self.name = info['name']\n",
    "             self.id = info['id']\n",
    "         print(\"A student object is created\")\n",
    "\n",
    "#---------------------------------------------\n",
    "\n",
    "s1 = Student(name='Carol', id=33)\n",
    "s1 = Student(name='Nazmul',id=11,cg=3.58)\n",
    "s3 = Student(name=\"Mike\")\n",
    "s4 = Student() #Unknown_keyword_arguemnet"
   ]
  },
  {
   "cell_type": "code",
   "execution_count": 297,
   "id": "576de1b4-282d-436a-9605-27cea18673de",
   "metadata": {},
   "outputs": [
    {
     "name": "stdout",
     "output_type": "stream",
     "text": [
      "30\n",
      "cse111\n"
     ]
    }
   ],
   "source": [
    "# Operator_overloading\n",
    "class data:\n",
    "     def __init__(self,x):\n",
    "         self.x = x\n",
    "         \n",
    "         #adding_two_object\n",
    "     def __add__(self,other):\n",
    "         return self.x + other.x \n",
    "\n",
    "#------------------------------------\n",
    "num1 = data(10)\n",
    "num2 = data(20)\n",
    "print(num1 + num2)   # (num1).__add__(num2)\n",
    "\n",
    "str1 = data('cse')\n",
    "str2 = data('111')\n",
    "print(str1 + str2)"
   ]
  },
  {
   "cell_type": "code",
   "execution_count": 298,
   "id": "67d98830-8d63-4c40-9108-58ce1d066d68",
   "metadata": {},
   "outputs": [
    {
     "name": "stdout",
     "output_type": "stream",
     "text": [
      "num1 is less than num2\n",
      "num1 is less than num2\n",
      "None\n"
     ]
    }
   ],
   "source": [
    "class data:\n",
    "    def __init__(self, x):\n",
    "        self.x = x\n",
    "        \n",
    "    def __lt__(self, other):\n",
    "        if(self.x < other.x):\n",
    "            print('num1 is less than num2')\n",
    "        else:\n",
    "            print('num1 is greater than num2')\n",
    "\n",
    "#-------------------------------------------\n",
    "num1 = data(20)\n",
    "num2 = data(30)\n",
    "\n",
    "num1 < num2  # This triggers __lt__\n",
    "\n",
    "print( num1 < num2 )  # Since there's no return statement,\n",
    "                       #  Python returns None, and print(num1 < num2) displays None"
   ]
  },
  {
   "cell_type": "code",
   "execution_count": 299,
   "id": "4b79d3cb-71d8-42d0-a70c-76442a179657",
   "metadata": {},
   "outputs": [
    {
     "name": "stdout",
     "output_type": "stream",
     "text": [
      "40\n",
      "40\n",
      "[<class 'int'>, <class 'int'>]\n"
     ]
    }
   ],
   "source": [
    "n1 = 15\n",
    "n2 = 25\n",
    "print(n1 + n2)\n",
    "\n",
    "print((n1).__add__(n2))\n",
    "print([type(n1), type(n2)])"
   ]
  },
  {
   "cell_type": "code",
   "execution_count": 300,
   "id": "f0036522-4cd7-4f7a-a02c-ec9e3983e139",
   "metadata": {},
   "outputs": [
    {
     "name": "stdout",
     "output_type": "stream",
     "text": [
      "The house has 6 windows amd 2 door's \n",
      "The house has 4 windows amd 1 door's \n",
      "The house has 10 windows amd 3 door's \n",
      "<__main__.House object at 0x00000217567E4CE0>\n"
     ]
    }
   ],
   "source": [
    "class House:\n",
    "     def __init__(self,w,d):\n",
    "         self.window = w\n",
    "         self.door= d\n",
    "         \n",
    "     def view(self):\n",
    "         print(f\"The house has {self.window} windows amd {self.door} door's \")\n",
    "         \n",
    "     def __add__(self,other): #(h1).___add__(h2)\n",
    "         new_window = self.window + other.window \n",
    "         new_door = self.door + other.door\n",
    "         obj = House(new_window,new_door)\n",
    "         return obj\n",
    "         # return f\"New house has {new_window} window and {new_door} door\"\n",
    " #----------------------------------------------------------------\n",
    "\n",
    "h1 = House(6, 2)\n",
    "h2 = House(4, 1)\n",
    "h1.view()\n",
    "h2.view()\n",
    "\n",
    "h3 = h1 + h2\n",
    "h3.view()\n",
    "\n",
    "print(h1 +  h2)"
   ]
  },
  {
   "cell_type": "code",
   "execution_count": 301,
   "id": "380f20c1-d2ee-41c3-812d-acfb30c24190",
   "metadata": {},
   "outputs": [
    {
     "name": "stdout",
     "output_type": "stream",
     "text": [
      "Name: Carol ID: 22 Student count 4\n"
     ]
    }
   ],
   "source": [
    "class Student:\n",
    "    counter = 0\n",
    "    \n",
    "    def __init__(self,name,id):\n",
    "         self.name = name\n",
    "         self.id = id\n",
    "         Student.counter+=1\n",
    "    \n",
    "    def details(self):\n",
    "         print(\"Name:\",self.name,\"ID:\",self.id,\"Student count\",Student.counter)\n",
    "#-----------------------------------------------------------------------------\n",
    "\n",
    "s1 = Student('Nazmul', 11)\n",
    "s2 = Student(\"Carol\",22)\n",
    "s3 = Student(\"Mike\", 33)\n",
    "s4 = Student(\"Hasan\", 100)\n",
    "\n",
    "s2.details()"
   ]
  },
  {
   "cell_type": "code",
   "execution_count": 302,
   "id": "9f437b39-1e4e-49cc-927a-b9c8e1f0ccc7",
   "metadata": {},
   "outputs": [
    {
     "name": "stdout",
     "output_type": "stream",
     "text": [
      "Name: Bob ID: 11\n",
      "Name: Mike ID: 11\n",
      "Name: Carol ID: 33\n"
     ]
    }
   ],
   "source": [
    "# Encapsulation(Access private variables using get and set methods.)\n",
    "class Student:\n",
    "     def __init__(self,name,id):\n",
    "         self.name = name\n",
    "         self.__id = id #.__id ---> Encapsulation\n",
    "         \n",
    "     def details(self):\n",
    "         print(\"Name:\",self.name,\"ID:\",self.__id)\n",
    "         \n",
    "     def set_id(self,id):\n",
    "         if (id>0):\n",
    "             self.__id = id\n",
    "         else:\n",
    "             print(\"Invalid ID!\")\n",
    "             \n",
    "     def get_id(self):\n",
    "         return self.__id\n",
    "         \n",
    "     def set_name(self,name):\n",
    "         self.name = name\n",
    "         \n",
    "     def get_name(self):\n",
    "         return self.name\n",
    "         \n",
    "#-----------------------------------------------------------------------\n",
    "\n",
    "s1 = Student('Bob', 11)\n",
    "s2 = Student('Carol', 24)\n",
    "s1.details()\n",
    "\n",
    "s2.set_id(33)\n",
    "s1.set_name('Mike')\n",
    "s1.get_name()\n",
    "\n",
    "s1.details()\n",
    "s2.details()"
   ]
  },
  {
   "cell_type": "code",
   "execution_count": 303,
   "id": "edd1891f-7eb8-47c5-b816-4388125899b9",
   "metadata": {},
   "outputs": [
    {
     "name": "stdout",
     "output_type": "stream",
     "text": [
      "X: 5 Y: 6\n",
      "Private method executed\n"
     ]
    }
   ],
   "source": [
    "# Method_encapsulation\n",
    "class ABC:\n",
    "     def __init__(self, x, y):\n",
    "         self.x = x\n",
    "         self._y = y\n",
    "     def details(self):\n",
    "         print(\"X:\",self.x,\"Y:\",self._y)\n",
    "         self.__method() # Access __method\n",
    "     def __method(self):  # Method_encapsulation\n",
    "         print(\"Private method executed\")\n",
    "         \n",
    "#------------------------------------------------------------------------------\n",
    "\n",
    "s1 = ABC(5, 6)\n",
    "s1.details()\n",
    "\n",
    "# s1.__method() ; not printed"
   ]
  },
  {
   "cell_type": "code",
   "execution_count": 304,
   "id": "aad3d606-68b1-4831-a238-7ddf75815e84",
   "metadata": {},
   "outputs": [
    {
     "name": "stdout",
     "output_type": "stream",
     "text": [
      "Team Run:  0\n",
      "Shakib's Total run:  12\n",
      "Tamim's Total run:  16\n",
      "Total Team Run:  28\n",
      "28\n"
     ]
    }
   ],
   "source": [
    " # Class or Static variable\n",
    "class Player:\n",
    "     team_run = 0  # Class or Static variable , team_run--->class property\n",
    "     def __init__(self,run):\n",
    "         self.run = run   #instance variabel\n",
    "     def hit_four(self):\n",
    "         self.run += 4\n",
    "         Player.team_run += 4\n",
    "     def hit_six(self):\n",
    "         self.run += 6\n",
    "         Player.team_run += 6\n",
    "#------------------------------------------------------------------------\n",
    "\n",
    "print('Team Run: ', Player.team_run)\n",
    "\n",
    "Shakib = Player(0)\n",
    "Tamim = Player(0)\n",
    "\n",
    "Tamim.hit_four()\n",
    "Tamim.hit_four()\n",
    "Tamim.hit_four()\n",
    "Tamim.hit_four()\n",
    "\n",
    "Shakib.hit_six()\n",
    "Shakib.hit_six()\n",
    "\n",
    "print(\"Shakib's Total run: \", Shakib.run)\n",
    "print(\"Tamim's Total run: \", Tamim.run)\n",
    "\n",
    "print(\"Total Team Run: \",Player.team_run)\n",
    "print(Player.team_run)  #called w.r.to class"
   ]
  },
  {
   "cell_type": "code",
   "execution_count": 305,
   "id": "2be1e013-2a28-41c6-bb5e-203922e52ae9",
   "metadata": {},
   "outputs": [
    {
     "name": "stdout",
     "output_type": "stream",
     "text": [
      "Student Count:  0\n",
      "Name: Carol ID: 11 Student count 2\n",
      "Name: Bob ID: 11 Student count 3\n",
      "Total Student:  3\n"
     ]
    }
   ],
   "source": [
    "class Student:\n",
    "     counter = 0\n",
    "     def __init__(self,name,id):\n",
    "         self.name = name\n",
    "         self.id = id\n",
    "         Student.counter += 1\n",
    "     def details(self):\n",
    "         print(\"Name:\",self.name,\"ID:\",self.id,\"Student count\",Student.counter )\n",
    "         \n",
    "#--------------------------------------------------------------------------\n",
    "\n",
    "print(\"Student Count: \", Student.counter)\n",
    "\n",
    "s1 = Student('Bob', 11)\n",
    "s2 = Student('Carol', 11)\n",
    "s2.details()\n",
    "s3 = Student('Mike', 11)\n",
    "\n",
    "s1.details()\n",
    "\n",
    "print(\"Total Student: \", Student.counter)"
   ]
  },
  {
   "cell_type": "markdown",
   "id": "574beb23-6c07-40d2-be0a-a436ea3a899b",
   "metadata": {},
   "source": [
    "##### Types of methods:\n",
    " 1. Instance method\n",
    " 2. Class method\n",
    " 3. Static method"
   ]
  },
  {
   "cell_type": "code",
   "execution_count": 306,
   "id": "d923deb6-ce0c-4d16-95b0-afeeb86a24e6",
   "metadata": {},
   "outputs": [
    {
     "data": {
      "text/plain": [
       "'Google'"
      ]
     },
     "execution_count": 306,
     "metadata": {},
     "output_type": "execute_result"
    }
   ],
   "source": [
    "# Class_Method\n",
    "class  Employee:\n",
    "     org_name = \"Google\"\n",
    "     def __init__(self,name):\n",
    "         self.name = name\n",
    "         \n",
    "     @classmethod\n",
    "     def info(cls):\n",
    "         return cls.org_name\n",
    "Employee.info()  #No need to create object"
   ]
  },
  {
   "cell_type": "code",
   "execution_count": 307,
   "id": "f6e0f1b0-ea7a-4769-85d2-24982eabcb7d",
   "metadata": {},
   "outputs": [
    {
     "name": "stdout",
     "output_type": "stream",
     "text": [
      "This is an Employee class\n"
     ]
    }
   ],
   "source": [
    "# Static_Method\n",
    "class  Employee:\n",
    "     org_name = \"Google\"\n",
    "     def __init__(self,name):\n",
    "         self.name = name\n",
    "     @staticmethod\n",
    "     def details(): # not take class or self\n",
    "         print(\"This is an Employee class\")\n",
    "Employee.details()  # No need to create object"
   ]
  },
  {
   "cell_type": "code",
   "execution_count": 308,
   "id": "2205ae43-eecd-4d74-8db5-9afe984e4eee",
   "metadata": {},
   "outputs": [
    {
     "name": "stdout",
     "output_type": "stream",
     "text": [
      "Name: Nazmul ID: 2213011 KUET\n"
     ]
    }
   ],
   "source": [
    "class Student:\n",
    "     uni_name= \"KUET\"\n",
    "     def __init__(self,name,id):\n",
    "         self.name = name\n",
    "         self.id = id\n",
    "         \n",
    "     def details(self):   # instance method\n",
    "         print(\"Name:\",self.name,\"ID:\",self.id,Student.uni_name )\n",
    "\n",
    "b1 = Student('Nazmul', 2213011)\n",
    "b1.details()"
   ]
  },
  {
   "cell_type": "code",
   "execution_count": 309,
   "id": "1f82d08d-d96c-4029-8800-5f563011e607",
   "metadata": {},
   "outputs": [
    {
     "name": "stdout",
     "output_type": "stream",
     "text": [
      "Name: Bob ID: 11 KUET\n",
      "Name: Carol ID: 22 KUET\n",
      "Name: Bob ID: 11 Brac University\n",
      "Name: Carol ID: 22 Brac University\n"
     ]
    }
   ],
   "source": [
    "class Student:\n",
    "     uni_name= \"KUET\"\n",
    "     def __init__(self,name,id):\n",
    "         self.name = name\n",
    "         self.id = id\n",
    "         \n",
    "     def details(self):   # instance method\n",
    "         print(\"Name:\",self.name,\"ID:\",self.id,Student.uni_name )\n",
    "         \n",
    "     @classmethod\n",
    "     def up_uni_name(cls,u_name):\n",
    "         cls.uni_name = u_name\n",
    "#---------------------------------------------------------------------------------\n",
    "\n",
    "s1 = Student('Bob',11)\n",
    "s2 = Student('Carol', 22)\n",
    "s1.details()\n",
    "s2.details()\n",
    "\n",
    "Student.up_uni_name(\"Brac University\")\n",
    "s1.details()\n",
    "s2.details()"
   ]
  },
  {
   "cell_type": "code",
   "execution_count": 310,
   "id": "89318fdf-246d-4115-af4d-9b75735f800d",
   "metadata": {},
   "outputs": [
    {
     "name": "stdout",
     "output_type": "stream",
     "text": [
      "Name: Bob ID: 11 KUET\n",
      "Name: Nazmul ID: 2213011 KUET\n"
     ]
    }
   ],
   "source": [
    "class Student:\n",
    "     uni_name= \"BUET\"\n",
    "     def __init__(self,name,id):\n",
    "         self.name = name\n",
    "         self.id = id\n",
    "     def details(self):   #instance method\n",
    "         print(\"Name:\",self.name,\"ID:\",self.id,Student.uni_name )\n",
    "     @classmethod\n",
    "     def up_uni_name(cls,u_name):\n",
    "         cls.uni_name = u_name\n",
    "     @classmethod\n",
    "     def from_string(cls,info):\n",
    "         name,id = info.split('-')\n",
    "         obj = Student(name,id)\n",
    "         return obj\n",
    "\n",
    "#------------------------------------------------------------------------------------\n",
    "\n",
    "s1 = Student(\"Bob\", 11)\n",
    "s2 = Student.from_string(\"Nazmul-2213011\")\n",
    "s2.up_uni_name(\"KUET\")\n",
    "s1.details()\n",
    "s2.details()"
   ]
  },
  {
   "cell_type": "code",
   "execution_count": 311,
   "id": "5609c2d7-c8c7-4205-b4d5-50d432ca7dda",
   "metadata": {},
   "outputs": [
    {
     "name": "stdout",
     "output_type": "stream",
     "text": [
      "Name: Bob ID: 11 KUET\n",
      "Name: Carol ID: 42 KUET\n",
      "CS\n"
     ]
    }
   ],
   "source": [
    "class Student:\n",
    "     uni_name= \"KUET\"\n",
    "    \n",
    "     def __init__(self,name,id):\n",
    "         self.name = name\n",
    "         self.__id = id\n",
    "         \n",
    "     def details(self):   #instance method\n",
    "         print(\"Name:\",self.name,\"ID:\",self.__id,Student.uni_name )\n",
    "         \n",
    "     @classmethod\n",
    "     def up_uni_name(cls,u_name):\n",
    "         cls.uni_name = u_name\n",
    "         \n",
    "     @staticmethod\n",
    "     def check_department(id):\n",
    "         if id[3:5] == \"01\":\n",
    "             print(\"CSE\")\n",
    "         elif id[3:5] == \"41\": \n",
    "             print(\"CS\")\n",
    "\n",
    "#-------------------------------------------------------------------------------------------\n",
    "\n",
    "s1 = Student(\"Bob\", 11)\n",
    "s2 = Student(\"Carol\", 42)\n",
    "s1.details()\n",
    "s2.details()\n",
    "\n",
    "Student.check_department(\"15341007\")"
   ]
  },
  {
   "cell_type": "markdown",
   "id": "873b97af-1f4d-40f1-a5ca-6a9c016842c3",
   "metadata": {},
   "source": [
    "#### Inheritence"
   ]
  },
  {
   "cell_type": "code",
   "execution_count": 312,
   "id": "7b28d0f3-9778-4f3f-8ee7-dbfd8cfd176d",
   "metadata": {},
   "outputs": [
    {
     "name": "stdout",
     "output_type": "stream",
     "text": [
      "Jack is eating\n",
      "Rover is barking\n",
      "Rover is eating\n",
      "True\n",
      "False\n",
      "False\n",
      "True\n",
      "True\n",
      "False\n"
     ]
    }
   ],
   "source": [
    "# Single_Inheritence\n",
    "class Animal:\n",
    "     def __init__(self,name):\n",
    "         self.name = name\n",
    "         \n",
    "     def eat(self):\n",
    "         print(self.name, \"is eating\")\n",
    "#-----------------------------------------------------------------------\n",
    "class Dog(Animal):\n",
    "     def bark(self):\n",
    "         print(self.name, \"is barking\")\n",
    "#--------------------------------------------------------------------------\n",
    "# parent class(Animal) can not access child class(Dog)\n",
    "\n",
    "a1 = Animal(\"Jack\")\n",
    "d1 = Dog(\"Rover\")\n",
    "a1.eat()\n",
    "d1.bark()\n",
    "d1.eat() # child class accessing parent class\n",
    "\n",
    "# Check instance \n",
    "# isinstance(Object, ClassName)\n",
    "\n",
    "# Check Class Name\n",
    "#  issubclass(Class, ClassName)\n",
    "\n",
    "print(isinstance(a1, Animal))\n",
    "print(isinstance(a1, Dog))\n",
    "print(isinstance(Dog, Animal)) # (object,class)\n",
    "\n",
    "print(issubclass(Dog, Animal))\n",
    "print(issubclass(Animal, Animal))\n",
    "print(issubclass(Animal, Dog))"
   ]
  },
  {
   "cell_type": "code",
   "execution_count": 313,
   "id": "8a6db27e-513d-47a2-9d57-7756a4020886",
   "metadata": {},
   "outputs": [
    {
     "name": "stdout",
     "output_type": "stream",
     "text": [
      "This method1 is in ParentClass\n",
      "This method2 is in ChildClass1\n",
      "This method3 is in ChildClass2\n"
     ]
    }
   ],
   "source": [
    "# Multilevel\n",
    "class ParentClass:\n",
    "     def method1(self):\n",
    "        print(\"This method1 is in ParentClass\")\n",
    "         \n",
    "class ChildClass1(ParentClass):\n",
    "     def method2(self):\n",
    "         print(\"This method2 is in ChildClass1\")\n",
    "         \n",
    "class ChildClass2(ChildClass1):\n",
    "     def method3(self):\n",
    "         print(\"This method3 is in ChildClass2\")\n",
    "\n",
    "#----------------------------------------------------------------------------------\n",
    "\n",
    "ch1 = ChildClass2()\n",
    "ch1.method1()\n",
    "ch1.method2()\n",
    "ch1.method3()"
   ]
  },
  {
   "cell_type": "markdown",
   "id": "dc542e1a-51eb-4f50-8211-9cf5546456be",
   "metadata": {},
   "source": [
    "\n",
    "##### Hierarchical Inheritence --->Multipe class is derived from a base class\n",
    "##### Multiple Iheritence --->Where a class derived from multiple parent class: ChildClass(ParentClass1,ParentClass2);first check ParentClass1 then ParenClass2\n",
    "##### Hybrid Inheritence ---> Mixed\n",
    "##### super() is used in child class to call parent class\n",
    "##### Method_Overriding : Method with same name don't execute parent method  but it's own new method with same name will execute "
   ]
  },
  {
   "cell_type": "markdown",
   "id": "c27bff13-2191-4d64-b76c-d5e8431b7767",
   "metadata": {},
   "source": [
    "### Hierarchical Inheritance"
   ]
  },
  {
   "cell_type": "code",
   "execution_count": 314,
   "id": "43427aa2-7188-470b-9863-1bf2645a1f87",
   "metadata": {},
   "outputs": [
    {
     "name": "stdout",
     "output_type": "stream",
     "text": [
      "{'name': 'Bob', 'id': 11, 'no_of_labs': 5}\n",
      "Name: Bob ID: 11\n",
      "Name: Carol ID: 19\n",
      "CSE student is crying because of 5 labs\n",
      "All day party\n"
     ]
    }
   ],
   "source": [
    "class Student:\n",
    "     def __init__(self,name,id):\n",
    "         self.name = name\n",
    "         self.id = id\n",
    "     def details(self):\n",
    "         print(\"Name:\",self.name,\"ID:\",self.id)\n",
    " #------------------------------------------------------------------------\n",
    "class CSEstudent(Student):\n",
    "     def __init__(self,name,id,labs):\n",
    "         super().__init__(name,id)\n",
    "         self.no_of_labs = labs\n",
    "     def cry(self):\n",
    "         print(\"CSE student is crying because of\", self.no_of_labs,\"labs\")\n",
    " #-------------------------------------------------------------------------\n",
    "class BBAstudent(Student):\n",
    "     def party(self):\n",
    "         print(\"All day party\")\n",
    " #--------------------------------------------------------------------------\n",
    "\n",
    "s1 = CSEstudent(\"Bob\", 11, 5)\n",
    "s2 = BBAstudent('Carol', 19)\n",
    "print(s1.__dict__)\n",
    "s1.details()  # super() is used in child class to call parent class\n",
    "s2.details()\n",
    "\n",
    "s1.cry()\n",
    "s2.party()"
   ]
  },
  {
   "cell_type": "code",
   "execution_count": 315,
   "id": "3a0affc8-9d27-457e-9dd0-34f90f6867d5",
   "metadata": {},
   "outputs": [
    {
     "name": "stdout",
     "output_type": "stream",
     "text": [
      "Name: Carol ID: 55\n",
      "Name: Bob ID: 11\n",
      "Carol Enrolled in CSE110\n"
     ]
    }
   ],
   "source": [
    "# Multilevel Inheritance\n",
    "class Student:\n",
    "     def __init__(self,name,id):\n",
    "         self.name = name\n",
    "         self.id = id\n",
    "         \n",
    "     def details(self):\n",
    "         print(\"Name:\",self.name,\"ID:\",self.id)\n",
    "#------------------------------------------------------------------------\n",
    "class CSEstudent(Student):\n",
    "     def __init__(self,name,id,labs):\n",
    "         super().__init__(name,id)\n",
    "         self.no_of_labs = labs\n",
    "         \n",
    "     def cry(self):\n",
    "         print(\"CSE student is crying because of\", self.no_of_labs,\"labs\")\n",
    "#-------------------------------------------------------------------------\n",
    "class CSEfresher(CSEstudent):\n",
    "     def enroll_CSE110(self):\n",
    "         print(self.name,\"Enrolled in CSE110\")\n",
    "#--------------------------------------------------------------------------\n",
    "\n",
    "s1 = CSEstudent(\"Bob\", 11, 3)\n",
    "s2 = CSEfresher(\"Carol\", 55, 1)\n",
    "s2.details()\n",
    "s1.details()\n",
    "s2.enroll_CSE110()"
   ]
  },
  {
   "cell_type": "code",
   "execution_count": 316,
   "id": "f11ab9c7-bd3c-4ada-a5d2-994479dbb49c",
   "metadata": {},
   "outputs": [
    {
     "name": "stdout",
     "output_type": "stream",
     "text": [
      "__init__ of class A\n",
      "__init__ of class C \n",
      "Method1 of class B\n"
     ]
    }
   ],
   "source": [
    "# Multiple Inheritance\n",
    "class A:\n",
    "     def __init__(self):\n",
    "         print(\"__init__ of class A\")\n",
    "         \n",
    "     def method1(self):\n",
    "         print(\"Method1 of class A\")\n",
    "#-------------------------------------------------------\n",
    "class B:\n",
    "     def __init__(self):\n",
    "         print(\"__init__ of class B\")\n",
    "         \n",
    "     def method1(self):\n",
    "         print(\"Method1 of class B\")\n",
    "#------------------------------------------------------\n",
    "class C(A,B):   # left is called first --->A\n",
    "     def __init__(self):\n",
    "         super().__init__() # Takes first class(A) __init__\n",
    "         #B.__init__(self)\n",
    "         print(\"__init__ of class C \")\n",
    "         \n",
    "     def method2(self):\n",
    "         print(\"Method2 of class C\")\n",
    "#-------------------------------------------------------\n",
    "\n",
    "c1 = C() # Access method1 of 1st parent's class which is A\n",
    "B.method1(c1) # Access method1 of class B; c1 is received in Class B's method 1 by self"
   ]
  },
  {
   "cell_type": "code",
   "execution_count": 317,
   "id": "eba46f2c-0f9f-44a6-a35e-1006563c8d50",
   "metadata": {},
   "outputs": [
    {
     "name": "stdout",
     "output_type": "stream",
     "text": [
      "{'name': 'Rover', 'color': 'Brown'}\n",
      "Brown Rover is barking\n",
      "Brown Rover is eating\n"
     ]
    }
   ],
   "source": [
    "# Variable Overriding\n",
    "# The new value replaces the parent's value.\n",
    "class Animal:\n",
    "     def __init__(self,name):\n",
    "         self.name = name\n",
    "         self.color = \"White\" # Default color is White\n",
    "         \n",
    "     def eat(self):\n",
    "         print(self.color,self.name,\"is eating\")\n",
    " #-------------------------------------------------------------------\n",
    "class Dog(Animal):\n",
    "     def __init__(self,name,color):\n",
    "         super().__init__(name)\n",
    "         self.color = color   # Overrides Animal's color\n",
    "         \n",
    "     def bark(self):\n",
    "         print(self.color,self.name,\"is barking\")\n",
    " #--------------------------------------------------------------------\n",
    "\n",
    "d1 = Dog(\"Rover\", \"Brown\")   \n",
    "print(d1.__dict__)\n",
    "d1.bark()\n",
    "d1.eat()"
   ]
  },
  {
   "cell_type": "code",
   "execution_count": 318,
   "id": "557a8313-4110-4d85-94be-03c78f501206",
   "metadata": {},
   "outputs": [
    {
     "name": "stdout",
     "output_type": "stream",
     "text": [
      "Always party\n",
      "You will get all of my property and methods\n"
     ]
    }
   ],
   "source": [
    "# Method Overriding\n",
    "class A:\n",
    "     def __init__(self):\n",
    "         print(\"__init__ of class A\")\n",
    "     def method1(self):\n",
    "         print(\"Olpo study\")\n",
    "     def method2(self):\n",
    "         print(\"You will get all of my property and methods\")\n",
    "#---------------------------------------------------------\n",
    "\n",
    "class B(A):\n",
    "     def __init__(self):\n",
    "         pass\n",
    "         #print(\"__init__ of class B\")\n",
    "     def method1(self): #Method name will same in method overriding,parameter equal or not\n",
    "         print(\"Always party\")\n",
    "         # super().method1()\n",
    "#-----------------------------------------------------------\n",
    "\n",
    "b1 = B()\n",
    "b1.method1()\n",
    "b1.method2()"
   ]
  },
  {
   "cell_type": "code",
   "execution_count": 319,
   "id": "162ae779-4e56-43a2-976a-c940897b8746",
   "metadata": {
    "scrolled": true
   },
   "outputs": [
    {
     "name": "stdout",
     "output_type": "stream",
     "text": [
      "My name is Bob\n",
      "My name is Carol\n",
      "My name is Carol\n",
      "My name is Nazmul\n"
     ]
    }
   ],
   "source": [
    "# __str__() method overriding\n",
    "class Student:\n",
    "     def __init__(self,name,id):\n",
    "         self.name = name\n",
    "         self.id = id\n",
    "         print(self)  # print location __str__() [method]\n",
    "                      # print(self) → automatically calls self.__str__().\n",
    "     def __str__(self):\n",
    "         return \"My name is \" + self.name # must return string\n",
    "#-----------------------------------------------------------------\n",
    "\n",
    "s1 = Student(\"Bob\",11)\n",
    "s2 = Student(\"Carol\",22)\n",
    "\n",
    "# print(s1)  # by default call s1.__str__()\n",
    "# print(s1.__str__())\n",
    "\n",
    "print(s2)\n",
    "\n",
    "s3 = Student(\"Nazmul\", 23)"
   ]
  },
  {
   "cell_type": "code",
   "execution_count": 320,
   "id": "68bbbb06-62dd-4e9c-8296-ad70c161516a",
   "metadata": {},
   "outputs": [
    {
     "name": "stdout",
     "output_type": "stream",
     "text": [
      "<__main__.Engine object at 0x000002175654F560>\n",
      "Engine started\n",
      "Car is running\n"
     ]
    }
   ],
   "source": [
    "# Composition (has a relationship) => In a class another classes object is created\n",
    "class Engine:\n",
    "     def __init__(self,cc):\n",
    "         self.capacity = cc\n",
    "     def start(self):\n",
    "         print(\"Engine started\")\n",
    "     def stop(self):\n",
    "         print(\"Engine stopped\")\n",
    "         \n",
    " #-------------------------------------------------------------------\n",
    "class Car(Engine): # Car has an engine. It is not an engine.\n",
    "     def __init__(self,name,cc):\n",
    "         self.name = name\n",
    "         self.engine = Engine(cc) # similar to e1 = Engine(30000)\n",
    "\n",
    "         \n",
    "     def run(self):\n",
    "         print(self.engine)\n",
    "         self.engine.start()  # self.engine is like e1\n",
    "         print(\"Car is running\")\n",
    " #--------------------------------------------------------------------\n",
    "\n",
    "c1 = Car('BMW', 2000)\n",
    "c1.run()\n",
    "\n",
    "# e1 = Engine(30000)"
   ]
  },
  {
   "cell_type": "markdown",
   "id": "fc74f977-3584-4fba-a7bf-79eac53a7161",
   "metadata": {},
   "source": [
    "#### # Abstract Class & Method"
   ]
  },
  {
   "cell_type": "code",
   "execution_count": 321,
   "id": "03807d22-ea2b-40ed-81c9-6375fe4ddf35",
   "metadata": {},
   "outputs": [
    {
     "name": "stdout",
     "output_type": "stream",
     "text": [
      "Method1 is overridden\n",
      "Method2 is overridden\n"
     ]
    }
   ],
   "source": [
    "# An abstact class must have one abstarct method\n",
    "\n",
    "from abc import ABC,abstractmethod\n",
    "class A(ABC):\n",
    "    \n",
    "     @abstractmethod\n",
    "     def method1(self):\n",
    "         pass         # Abstract method don't have implementation\n",
    "# a =A()  # we will not able to create object from abstract class\n",
    "\n",
    "# ------------------------------------------------------------------\n",
    "\n",
    "class B(A):\n",
    "     @abstractmethod\n",
    "     def method2(self):\n",
    "         pass\n",
    "         \n",
    "#-------------------------------------------------------------------\n",
    "    \n",
    "class C(B):\n",
    "       def method1(self): # Child class method will be called [method overriding]\n",
    "         print(\"Method1 is overridden\")\n",
    "           \n",
    "       def method2(self):\n",
    "         print(\"Method2 is overridden\")\n",
    "\n",
    "#-----------------------------------------------------------------------\n",
    "\n",
    "c = C()\n",
    "c.method1()\n",
    "c.method2()\n",
    "\n",
    "# Class A and B are abstract class\n",
    "# Class C is a concrete/regular class"
   ]
  },
  {
   "cell_type": "code",
   "execution_count": 322,
   "id": "226e1888-f7bd-4a59-8f22-65126fe5e881",
   "metadata": {},
   "outputs": [
    {
     "name": "stdout",
     "output_type": "stream",
     "text": [
      "Dog is barking\n",
      "I am eating\n",
      "I am eating\n",
      "Meow Meow\n",
      "Hiss Hiss\n"
     ]
    }
   ],
   "source": [
    "from abc import ABC,abstractmethod\n",
    "class Animal(ABC):\n",
    "     @abstractmethod\n",
    "     def make_sound(self):\n",
    "         pass\n",
    "         #print(\"AB\") it will work but there should not be any body\n",
    "     def eat(self):\n",
    "         print(\"I am eating\")\n",
    "#----------------------------------------------------------------\n",
    "class Dog(Animal):\n",
    "     def make_sound(self): # method overridden\n",
    "         print(\"Dog is barking\")\n",
    "#-----------------------------------------------------------------\n",
    "class Cat(Animal):\n",
    "     def make_sound(self):\n",
    "         print(\"Meow Meow\")\n",
    "#-----------------------------------------------------------------\n",
    "class Snake(Animal):\n",
    "     def make_sound(self):\n",
    "         print(\"Hiss Hiss\")\n",
    "#-----------------------------------------------------------------\n",
    "\n",
    "d1 = Dog()\n",
    "d1.make_sound()\n",
    "d1.eat()\n",
    "\n",
    "c1 = Cat()\n",
    "c1.eat()\n",
    "c1.make_sound()\n",
    "\n",
    "s1 = Snake()\n",
    "s1.make_sound()"
   ]
  },
  {
   "cell_type": "code",
   "execution_count": null,
   "id": "8e2e2438-dc9b-47d0-83bd-b33c511f999a",
   "metadata": {},
   "outputs": [],
   "source": []
  },
  {
   "cell_type": "code",
   "execution_count": null,
   "id": "4c074e33-24da-47c7-b155-fb220c8da39a",
   "metadata": {},
   "outputs": [],
   "source": []
  }
 ],
 "metadata": {
  "kernelspec": {
   "display_name": "Python 3 (ipykernel)",
   "language": "python",
   "name": "python3"
  },
  "language_info": {
   "codemirror_mode": {
    "name": "ipython",
    "version": 3
   },
   "file_extension": ".py",
   "mimetype": "text/x-python",
   "name": "python",
   "nbconvert_exporter": "python",
   "pygments_lexer": "ipython3",
   "version": "3.12.7"
  }
 },
 "nbformat": 4,
 "nbformat_minor": 5
}
